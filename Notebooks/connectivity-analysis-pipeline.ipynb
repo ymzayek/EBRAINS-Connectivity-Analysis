{
 "cells": [
  {
   "cell_type": "code",
   "execution_count": null,
   "id": "e0d7a268",
   "metadata": {
    "pycharm": {
     "name": "#%%\n"
    }
   },
   "outputs": [],
   "source": [
    "%matplotlib inline\n",
    "# Do not display warnings to prettify the notebook...\n",
    "import warnings\n",
    "warnings.simplefilter(\"ignore\")"
   ]
  },
  {
   "cell_type": "markdown",
   "id": "859d6a9f",
   "metadata": {
    "pycharm": {
     "name": "#%% md\n"
    }
   },
   "source": [
    "# Connectivity Analysis Pipeline\n",
    "\n",
    "This notebook showcases a connectivity analysis pipeline using **EBRAINS** atlas services through **siibra**, and **nilearn**."
   ]
  },
  {
   "cell_type": "markdown",
   "id": "b5a66276",
   "metadata": {
    "pycharm": {
     "name": "#%% md\n"
    }
   },
   "source": [
    "## Getting Started\n",
    "\n",
    "The following steps will help you get started quickly with `siibra` and `nilearn`. We start by trying to import the packages. If not found, they will be installed."
   ]
  },
  {
   "cell_type": "code",
   "execution_count": null,
   "id": "142ee23a",
   "metadata": {
    "pycharm": {
     "name": "#%%\n"
    }
   },
   "outputs": [],
   "source": [
    "# import nilearn newest version (make sure it is 0.9.0 or more)\n",
    "try:\n",
    "    import nilearn\n",
    "except:\n",
    "    !pip install nilearn\n",
    "    import nilearn\n",
    "nilearn.__version__"
   ]
  },
  {
   "cell_type": "markdown",
   "id": "189bac45",
   "metadata": {
    "pycharm": {
     "name": "#%% md\n"
    }
   },
   "source": [
    "We rely on the `siibra` library to work with EBRAINS human brain atlas and access the *Julich-Brain Probabilistic Cytoarchitectonic Maps*."
   ]
  },
  {
   "cell_type": "code",
   "execution_count": null,
   "id": "3eed2957",
   "metadata": {
    "pycharm": {
     "name": "#%%\n"
    }
   },
   "outputs": [],
   "source": [
    "try:\n",
    "    import siibra\n",
    "except:\n",
    "    !pip install siibra\n",
    "    import siibra\n",
    "print(siibra.__version__)\n",
    "assert siibra.__version__ >= \"0.4a76\""
   ]
  },
  {
   "cell_type": "markdown",
   "id": "9e0a913c",
   "metadata": {
    "pycharm": {
     "name": "#%% md\n"
    }
   },
   "source": [
    "Alternatively, you can install the most recent development version of siibra directly from github:\n",
    "\n",
    "```shell\n",
    "git clone https://github.com/FZJ-INM1-BDA/siibra-python.git\n",
    "cd siibra-python/\n",
    "pip install -e .\n",
    "```"
   ]
  },
  {
   "cell_type": "markdown",
   "id": "cfd91b30",
   "metadata": {
    "pycharm": {
     "name": "#%% md\n"
    }
   },
   "source": [
    "## Pipeline Steps"
   ]
  },
  {
   "cell_type": "markdown",
   "id": "a19dcb3d",
   "metadata": {
    "pycharm": {
     "name": "#%% md\n"
    }
   },
   "source": [
    "The pipeline will ideally contains the following steps:\n",
    "\n",
    " 1. [Load fmri data](#Step-1:-Load-fmri-data)\n",
    " 2. [Load a parcellation map using siibra](#Step-2:-Load-a-parcellation-map-using-siibra)\n",
    " 3. [Use Nilearn to extract signals from parcellation and functional data](#Step-3:-Use-Nilearn-to-extract-signals-from-parcellation-and-functional-data)\n",
    " 4. [Use Nilearn to compute a connectivity matrix](#Step-4:-Use-Nilearn-to-compute-a-connectivity-matrix)\n",
    " 5. [Fetch streamline counts using siibra](#Step-5:-Fetch-streamline-counts-using-siibra)\n",
    " 6. [Visual comparison of the matrices](#Step-6:-Visual-comparison-of-the-matrices)"
   ]
  },
  {
   "cell_type": "markdown",
   "id": "43e93390",
   "metadata": {
    "pycharm": {
     "name": "#%% md\n"
    }
   },
   "source": [
    "## Step 1: Load fmri data"
   ]
  },
  {
   "cell_type": "markdown",
   "id": "89000cce",
   "metadata": {
    "pycharm": {
     "name": "#%% md\n"
    }
   },
   "source": [
    "Fetch one IBC subject in 3mm resolution"
   ]
  },
  {
   "cell_type": "code",
   "execution_count": null,
   "id": "91655cba",
   "metadata": {
    "pycharm": {
     "name": "#%%\n"
    }
   },
   "outputs": [],
   "source": [
    "from download_data import download_data\n",
    "import glob\n",
    "\n",
    "download_data()\n",
    "data = {\n",
    "    'func': glob.glob(\"**/*.nii.gz\", recursive=True),\n",
    "    'confounds': glob.glob(\"**/*.txt\", recursive=True)\n",
    "}"
   ]
  },
  {
   "cell_type": "markdown",
   "id": "d5c4d711",
   "metadata": {
    "pycharm": {
     "name": "#%% md\n"
    }
   },
   "source": [
    "## Step 2: Load a parcellation map using siibra\n",
    "\n",
    "siibra distinguishes a parcellation from its parcelation maps, since the same parcellation can be mapped in different reference spaces (e.g. MNI 152 or BigBrain), and different forms (e.g. as labelled or statistical map). We first choose a parcellation."
   ]
  },
  {
   "cell_type": "code",
   "execution_count": null,
   "id": "6724805a",
   "metadata": {},
   "outputs": [],
   "source": [
    "julich_brain = siibra.parcellations.JULICH_BRAIN_CYTOARCHITECTONIC_ATLAS_V2_9\n",
    "print(julich_brain.description)"
   ]
  },
  {
   "cell_type": "markdown",
   "id": "d09d67e9",
   "metadata": {},
   "source": [
    "We then choose the map for this parcellation in MNI152 space. The map is an object which provides access to the corresponding image or surface data, and keeps track of the relationship between map indices and the corresponding regions. It follows a lazy data loading scheme - images or meshes are only retrieved when calling `fetch()`. Maps might be split across multiple volumes: Statistical maps typically use one volume per region, and some labelled maps also split the volume into fragments. For example, the Julich-Brain maximum probability maps are provided in two volume fragments for the left and right hemisphere. When fetching, siibra returns Nifti1Image objects for voxel volumes. \n",
    "\n",
    "For this connectivity analysis however, we require a single labelled volume. Therefore we request a compressed parcellation map, where the fragments are merged into a single volume. Note that the compression results in modified label indices, which are automatically managed by the resulting compressed parcellation map object. Compression may inevitably lead to voxel labeling conflicts, which siibra reports with message."
   ]
  },
  {
   "cell_type": "code",
   "execution_count": null,
   "id": "c7f275c6",
   "metadata": {},
   "outputs": [],
   "source": [
    "# the original maximum probability map object with split hemispheres\n",
    "julich_mpm = julich_brain.get_map(\n",
    "    space=siibra.spaces.MNI_152_ICBM_2009C_NONLINEAR_ASYMMETRIC,\n",
    "    maptype=siibra.MapType.LABELLED\n",
    ")\n",
    "print(\n",
    "    f\"The Julich-Brain maximum probability map comes in {len(julich_mpm.fragments)} \"\n",
    "    f\"volume fragments: {', '.join(julich_mpm.fragments)}\"\n",
    ")\n",
    "\n",
    "# single-volume compressed version\n",
    "julich_mpm_compressed = julich_mpm.compress()\n",
    "parcellation_map_niimg = julich_mpm_compressed.fetch()\n",
    "\n",
    "from nilearn import plotting\n",
    "plotting.view_img(\n",
    "    parcellation_map_niimg,\n",
    "    cmap=julich_mpm_compressed.get_colormap(),\n",
    "    symmetric_cmap=False, colorbar=False\n",
    ")"
   ]
  },
  {
   "cell_type": "markdown",
   "id": "bde2e080",
   "metadata": {
    "pycharm": {
     "name": "#%% md\n"
    }
   },
   "source": [
    "**Note:** siibra parcellation maps allow to translate indices into regions and vice versa. Map indices generally define volume index, fragment name, and label index. Typically, index handling is performed automatically in the background."
   ]
  },
  {
   "cell_type": "code",
   "execution_count": null,
   "id": "1cd5a5f3",
   "metadata": {
    "pycharm": {
     "name": "#%%\n"
    }
   },
   "outputs": [],
   "source": [
    "# how is v1 left indexed in this map?\n",
    "index = julich_mpm_compressed.get_index('v1 left')\n",
    "print(index)\n",
    "\n",
    "# What is the region mapped with this index?\n",
    "region1 = julich_mpm_compressed.get_region(index=index)\n",
    "print(region1)"
   ]
  },
  {
   "cell_type": "markdown",
   "id": "4e943367",
   "metadata": {
    "pycharm": {
     "name": "#%% md\n"
    }
   },
   "source": [
    "## Step 3: Use Nilearn to extract signals from parcellation and functional data\n",
    "\n",
    "In this section we use the nilearn `NiftiLabelsMasker` to extract the signals from the functional dataset and parcellation."
   ]
  },
  {
   "cell_type": "code",
   "execution_count": null,
   "id": "f9fdbd6e",
   "metadata": {
    "pycharm": {
     "name": "#%%\n"
    }
   },
   "outputs": [],
   "source": [
    "from IPython.display import Image\n",
    "Image(filename='masker.png') "
   ]
  },
  {
   "cell_type": "markdown",
   "id": "cc78285c",
   "metadata": {
    "pycharm": {
     "name": "#%% md\n"
    }
   },
   "source": [
    "*copyright - Image taken from the nilearn documentation.*\n",
    "\n",
    "More information on maskers can be found in the <a href=\"https://nilearn.github.io/stable/manipulating_images/masker_objects.html\">nilearn online documentation</a>."
   ]
  },
  {
   "cell_type": "markdown",
   "id": "3e0be47b",
   "metadata": {
    "pycharm": {
     "name": "#%% md\n"
    }
   },
   "source": [
    "The parcellation and data images have different resolutions, which will have to be handled when computing the signals:"
   ]
  },
  {
   "cell_type": "code",
   "execution_count": null,
   "id": "f159b370",
   "metadata": {
    "pycharm": {
     "name": "#%%\n"
    }
   },
   "outputs": [],
   "source": [
    "parcellation_map_niimg.affine"
   ]
  },
  {
   "cell_type": "code",
   "execution_count": null,
   "id": "fe00ae4b",
   "metadata": {
    "pycharm": {
     "name": "#%%\n"
    }
   },
   "outputs": [],
   "source": [
    "import nibabel as nib\n",
    "nib.load(data['func'][0]).affine"
   ]
  },
  {
   "cell_type": "code",
   "execution_count": null,
   "id": "591486c0",
   "metadata": {
    "pycharm": {
     "name": "#%%\n"
    }
   },
   "outputs": [],
   "source": [
    "from nilearn.maskers import NiftiLabelsMasker\n",
    "import numpy as np\n",
    "\n",
    "# Use NiftiLabelsMasker to extract signals from regions\n",
    "# Note that the masker will resample the parcellation to\n",
    "# the data image resolution.\n",
    "masker = NiftiLabelsMasker(\n",
    "    labels_img = julich_mpm_compressed.fetch(),\n",
    "    labels = julich_mpm_compressed.labels,\n",
    "    background_label=0,  # Default value, for clarity\n",
    "    resampling_target=\"data\",  # Default value\n",
    "    standardize=True  # Standardize the signals\n",
    ") \n",
    "\n",
    "# build the time series array\n",
    "time_series = np.array([\n",
    "    masker.fit_transform(func, confounds=confounds)\n",
    "    for func, confounds in zip(data['func'], data['confounds'])\n",
    "])"
   ]
  },
  {
   "cell_type": "markdown",
   "id": "56233312",
   "metadata": {},
   "source": [
    "Small regions could get wiped out of the label image due to resampling which may results in signals extracted from fewer regions than defined in the input parcellation map."
   ]
  },
  {
   "cell_type": "code",
   "execution_count": null,
   "id": "7967ae75",
   "metadata": {},
   "outputs": [],
   "source": [
    "# compare the dimensions\n",
    "print(\n",
    "    f\"We have {time_series.shape[2]} standardized time series \"\n",
    "    f\"of length {time_series.shape[1]} for 1 subject, for \"\n",
    "    f\"{len(julich_mpm_compressed.regions)} regions in the parcellation map.\"\n",
    ")\n",
    "\n",
    "# Print the left out areas\n",
    "diff = julich_mpm_compressed.labels - set(masker.labels_)\n",
    "for i, label in enumerate(diff):\n",
    "    if i == 0:\n",
    "        print(\"\\nLeft out regions: \")\n",
    "    region = julich_mpm_compressed.get_region(volume=0, label=label)\n",
    "    print(f\" - {region.name} (index={label})\")"
   ]
  },
  {
   "cell_type": "code",
   "execution_count": null,
   "id": "60cb3156",
   "metadata": {
    "pycharm": {
     "name": "#%%\n"
    }
   },
   "outputs": [],
   "source": [
    "import matplotlib.pyplot as plt\n",
    "\n",
    "subject_id = 0\n",
    "fig = plt.figure(figsize=(12,4))\n",
    "for i in [0,1,2]:\n",
    "    # Note: the index in the time series array is a zero-based continuous range,\n",
    "    # which we need to translate back into the parcellation's label index\n",
    "    # to identify the corresponding region.\n",
    "    region = julich_mpm_compressed.get_region(\n",
    "        volume=0, label=int(masker.labels_[i])\n",
    "    )\n",
    "    plt.plot(time_series[subject_id, :, i], label=f\"{region.name:30.30}\")\n",
    "plt.legend()\n",
    "plt.xlim((0, 168))\n",
    "plt.xlabel(\"Time\", fontsize=15)\n",
    "plt.title(f\"Signals for subject {subject_id} for three regions\", fontsize=15)\n",
    "plt.grid(True)\n",
    "plt.tight_layout()"
   ]
  },
  {
   "cell_type": "markdown",
   "id": "1fab15f7",
   "metadata": {
    "pycharm": {
     "name": "#%% md\n"
    }
   },
   "source": [
    "## Step 4: Use Nilearn to compute a connectivity matrix\n",
    "\n",
    "Here we compute the correlation between these time series:"
   ]
  },
  {
   "cell_type": "code",
   "execution_count": null,
   "id": "04a48430",
   "metadata": {
    "pycharm": {
     "name": "#%%\n"
    }
   },
   "outputs": [],
   "source": [
    "from nilearn.connectome import ConnectivityMeasure\n",
    "correlation_measure = ConnectivityMeasure(kind='correlation')\n",
    "correlation_matrix = correlation_measure.fit_transform(time_series)\n",
    "assert correlation_matrix.shape == (len(data['func']), len(masker.labels_), len(masker.labels_))\n",
    "print(correlation_matrix.shape)"
   ]
  },
  {
   "cell_type": "markdown",
   "id": "a588a64c",
   "metadata": {
    "pycharm": {
     "name": "#%% md\n"
    }
   },
   "source": [
    "In order to visualize this matrix, we take the mean across subjects.\n",
    "Since one subject is used here, this step will only affect the shape of the matrix:"
   ]
  },
  {
   "cell_type": "code",
   "execution_count": null,
   "id": "86961d4c",
   "metadata": {
    "pycharm": {
     "name": "#%%\n"
    }
   },
   "outputs": [],
   "source": [
    "mean_correlation_matrix = correlation_measure.mean_\n",
    "assert mean_correlation_matrix.shape == (len(masker.labels_), len(masker.labels_))\n",
    "print(mean_correlation_matrix.shape)"
   ]
  },
  {
   "cell_type": "markdown",
   "id": "00babd26",
   "metadata": {
    "pycharm": {
     "name": "#%% md\n"
    }
   },
   "source": [
    "## Step 5: Fetch streamline counts using siibra"
   ]
  },
  {
   "cell_type": "code",
   "execution_count": null,
   "id": "e1e14c34",
   "metadata": {},
   "outputs": [],
   "source": [
    "sc = siibra.features.get(\n",
    "    julich_brain,\n",
    "    siibra.features.connectivity.StreamlineCounts\n",
    ")[0]\n",
    "sc_mean_matrix = sc.get_matrix()"
   ]
  },
  {
   "cell_type": "markdown",
   "id": "18114241",
   "metadata": {
    "pycharm": {
     "name": "#%% md\n"
    }
   },
   "source": [
    "## Step 6: Visual comparison of the matrices\n",
    "\n",
    "We can use **Nilearn** to visualize the connectivity, either as a matrix or as a graph\n",
    "\n",
    "### 6.1 As a matrix\n",
    "\n",
    "We can plot the matrix with the region names."
   ]
  },
  {
   "cell_type": "code",
   "execution_count": null,
   "id": "d69d8bc5",
   "metadata": {
    "pycharm": {
     "name": "#%%\n"
    }
   },
   "outputs": [],
   "source": [
    "from nilearn.plotting import plot_matrix\n",
    "# Mask the main diagonal for visualization:\n",
    "np.fill_diagonal(mean_correlation_matrix, 0)\n",
    "# matrices are ordered for block-like representation\n",
    "# For readability show only first 40 labels\n",
    "start = 0\n",
    "end = 40\n",
    "regions = [\n",
    "    julich_mpm_compressed.get_region(volume=0, label=int(l))\n",
    "    for l in masker.labels_[start:end]\n",
    "]\n",
    "plot_matrix(mean_correlation_matrix[start:end, start:end],\n",
    "            figure=(16, 16), \n",
    "            labels=[r.name for r in regions],\n",
    "            reorder=False)"
   ]
  },
  {
   "cell_type": "code",
   "execution_count": null,
   "id": "51224955",
   "metadata": {
    "scrolled": false
   },
   "outputs": [],
   "source": [
    "# determine regions in the structural connectivity matrix \n",
    "# corresponding to the 40 selected regions in the functional connectivity\n",
    "sc_regions = [\n",
    "    r for r in sc_mean_matrix.index\n",
    "    if any(_.matches(r) for _ in regions)\n",
    "]\n",
    "assert len(sc_regions) == 40\n",
    "\n",
    "# extract the log-scale 40x40 submatrix from the structural connectivity\n",
    "sc_submatrix = np.log(\n",
    "    sc_mean_matrix.loc[sc_regions][sc_regions].to_numpy()\n",
    ")\n",
    "\n",
    "# plot it\n",
    "np.fill_diagonal(sc_submatrix, 0)\n",
    "plot_matrix(sc_submatrix,\n",
    "            figure=(16, 16), \n",
    "            labels=[r.name for r in regions],\n",
    "            reorder=False)"
   ]
  },
  {
   "cell_type": "markdown",
   "id": "e98f8f56",
   "metadata": {
    "pycharm": {
     "name": "#%% md\n"
    }
   },
   "source": [
    "### 6.2 As a connectome plot"
   ]
  },
  {
   "cell_type": "code",
   "execution_count": null,
   "id": "0746c980",
   "metadata": {},
   "outputs": [],
   "source": [
    "from nilearn.plotting import plot_connectome, find_parcellation_cut_coords"
   ]
  },
  {
   "cell_type": "code",
   "execution_count": null,
   "id": "21787f8d",
   "metadata": {},
   "outputs": [],
   "source": [
    "# plot the structural connectivity\n",
    "centroids = sc.compute_centroids(space='mni152')\n",
    "plot_connectome(sc_mean_matrix, centroids, edge_threshold=\"99%\")"
   ]
  },
  {
   "cell_type": "code",
   "execution_count": null,
   "id": "968b1d64",
   "metadata": {
    "pycharm": {
     "name": "#%%\n"
    }
   },
   "outputs": [],
   "source": [
    "# grab center coordinates for atlas labels\n",
    "# !!!!! UGLY HACK ALERT !!!!!\n",
    "# Pass the resampled label image from the masker to avoid shape errors\n",
    "coordinates = find_parcellation_cut_coords(labels_img=masker._resampled_labels_img_)\n",
    "# plot connectome with 99% edge strength in the connectivity\n",
    "plot_connectome(mean_correlation_matrix,\n",
    "                coordinates,\n",
    "                edge_threshold=\"99%\")"
   ]
  }
 ],
 "metadata": {
  "kernelspec": {
   "display_name": "ebrains",
   "language": "python",
   "name": "ebrains"
  },
  "language_info": {
   "codemirror_mode": {
    "name": "ipython",
    "version": 3
   },
   "file_extension": ".py",
   "mimetype": "text/x-python",
   "name": "python",
   "nbconvert_exporter": "python",
   "pygments_lexer": "ipython3",
   "version": "3.11.6"
  }
 },
 "nbformat": 4,
 "nbformat_minor": 5
}
